{
 "cells": [
  {
   "cell_type": "markdown",
   "metadata": {},
   "source": [
    "# LSASS Memory Credential Dump validation"
   ]
  },
  {
   "cell_type": "markdown",
   "metadata": {},
   "source": [
    "## Starting Spark session and loading the Dataset"
   ]
  },
  {
   "cell_type": "code",
   "execution_count": 1,
   "metadata": {},
   "outputs": [],
   "source": [
    "#Starting Spark session\n",
    "\n",
    "from pyspark.sql import SparkSession\n",
    "spark = SparkSession.builder.getOrCreate()\n",
    "spark.conf.set(\"spark.sql.caseSensitive\", \"true\")\n",
    "\n",
    "#Loading Dataset\n",
    "\n",
    "df = spark.read.json('empire_mimikatz_logonpasswords_2020-08-07103224.json')\n",
    "df.createTempView('data_table')\n"
   ]
  },
  {
   "cell_type": "code",
   "execution_count": 2,
   "metadata": {},
   "outputs": [
    {
     "name": "stdout",
     "output_type": "stream",
     "text": [
      "root\n",
      " |-- @timestamp: string (nullable = true)\n",
      " |-- @version: string (nullable = true)\n",
      " |-- AccessList: string (nullable = true)\n",
      " |-- AccessMask: string (nullable = true)\n",
      " |-- AccessReason: string (nullable = true)\n",
      " |-- AccountName: string (nullable = true)\n",
      " |-- AccountType: string (nullable = true)\n",
      " |-- ActivityID: string (nullable = true)\n",
      " |-- Application: string (nullable = true)\n",
      " |-- AuthenticationPackageName: string (nullable = true)\n",
      " |-- CallTrace: string (nullable = true)\n",
      " |-- Category: string (nullable = true)\n",
      " |-- Channel: string (nullable = true)\n",
      " |-- CommandLine: string (nullable = true)\n",
      " |-- Company: string (nullable = true)\n",
      " |-- ContextInfo: string (nullable = true)\n",
      " |-- CreationUtcTime: string (nullable = true)\n",
      " |-- CurrentDirectory: string (nullable = true)\n",
      " |-- Description: string (nullable = true)\n",
      " |-- DestAddress: string (nullable = true)\n",
      " |-- DestPort: string (nullable = true)\n",
      " |-- DestinationHostname: string (nullable = true)\n",
      " |-- DestinationIp: string (nullable = true)\n",
      " |-- DestinationIsIpv6: string (nullable = true)\n",
      " |-- DestinationPort: string (nullable = true)\n",
      " |-- DestinationPortName: string (nullable = true)\n",
      " |-- Details: string (nullable = true)\n",
      " |-- Device: string (nullable = true)\n",
      " |-- Direction: string (nullable = true)\n",
      " |-- DisabledPrivilegeList: string (nullable = true)\n",
      " |-- Domain: string (nullable = true)\n",
      " |-- ElevatedToken: string (nullable = true)\n",
      " |-- EnabledPrivilegeList: string (nullable = true)\n",
      " |-- EventCountTotal: string (nullable = true)\n",
      " |-- EventID: long (nullable = true)\n",
      " |-- EventIdx: string (nullable = true)\n",
      " |-- EventReceivedTime: string (nullable = true)\n",
      " |-- EventTime: string (nullable = true)\n",
      " |-- EventType: string (nullable = true)\n",
      " |-- EventTypeOrignal: string (nullable = true)\n",
      " |-- ExecutionProcessID: long (nullable = true)\n",
      " |-- FileVersion: string (nullable = true)\n",
      " |-- FilterRTID: string (nullable = true)\n",
      " |-- GrantedAccess: string (nullable = true)\n",
      " |-- GroupMembership: string (nullable = true)\n",
      " |-- HandleId: string (nullable = true)\n",
      " |-- Hashes: string (nullable = true)\n",
      " |-- Hostname: string (nullable = true)\n",
      " |-- Image: string (nullable = true)\n",
      " |-- ImageLoaded: string (nullable = true)\n",
      " |-- ImpersonationLevel: string (nullable = true)\n",
      " |-- Initiated: string (nullable = true)\n",
      " |-- IntegrityLevel: string (nullable = true)\n",
      " |-- IpAddress: string (nullable = true)\n",
      " |-- IpPort: string (nullable = true)\n",
      " |-- KeyLength: string (nullable = true)\n",
      " |-- Keywords: long (nullable = true)\n",
      " |-- LayerName: string (nullable = true)\n",
      " |-- LayerRTID: string (nullable = true)\n",
      " |-- LmPackageName: string (nullable = true)\n",
      " |-- LogonGuid: string (nullable = true)\n",
      " |-- LogonId: string (nullable = true)\n",
      " |-- LogonProcessName: string (nullable = true)\n",
      " |-- LogonType: string (nullable = true)\n",
      " |-- MandatoryLabel: string (nullable = true)\n",
      " |-- Message: string (nullable = true)\n",
      " |-- NewProcessId: string (nullable = true)\n",
      " |-- NewProcessName: string (nullable = true)\n",
      " |-- NewSd: string (nullable = true)\n",
      " |-- ObjectName: string (nullable = true)\n",
      " |-- ObjectServer: string (nullable = true)\n",
      " |-- ObjectType: string (nullable = true)\n",
      " |-- OldSd: string (nullable = true)\n",
      " |-- Opcode: string (nullable = true)\n",
      " |-- OpcodeValue: long (nullable = true)\n",
      " |-- OriginalFileName: string (nullable = true)\n",
      " |-- ParentCommandLine: string (nullable = true)\n",
      " |-- ParentImage: string (nullable = true)\n",
      " |-- ParentProcessGuid: string (nullable = true)\n",
      " |-- ParentProcessId: string (nullable = true)\n",
      " |-- ParentProcessName: string (nullable = true)\n",
      " |-- Payload: string (nullable = true)\n",
      " |-- PipeName: string (nullable = true)\n",
      " |-- PrivilegeList: string (nullable = true)\n",
      " |-- ProcessGuid: string (nullable = true)\n",
      " |-- ProcessId: string (nullable = true)\n",
      " |-- ProcessName: string (nullable = true)\n",
      " |-- Product: string (nullable = true)\n",
      " |-- Protocol: string (nullable = true)\n",
      " |-- ProviderGuid: string (nullable = true)\n",
      " |-- QueryName: string (nullable = true)\n",
      " |-- QueryResults: string (nullable = true)\n",
      " |-- QueryStatus: string (nullable = true)\n",
      " |-- RecordNumber: long (nullable = true)\n",
      " |-- RelativeTargetName: string (nullable = true)\n",
      " |-- RemoteMachineID: string (nullable = true)\n",
      " |-- RemoteUserID: string (nullable = true)\n",
      " |-- ResourceAttributes: string (nullable = true)\n",
      " |-- RestrictedAdminMode: string (nullable = true)\n",
      " |-- RestrictedSidCount: string (nullable = true)\n",
      " |-- RuleName: string (nullable = true)\n",
      " |-- Service: string (nullable = true)\n",
      " |-- Severity: string (nullable = true)\n",
      " |-- SeverityValue: long (nullable = true)\n",
      " |-- ShareLocalPath: string (nullable = true)\n",
      " |-- ShareName: string (nullable = true)\n",
      " |-- Signature: string (nullable = true)\n",
      " |-- SignatureStatus: string (nullable = true)\n",
      " |-- Signed: string (nullable = true)\n",
      " |-- SourceAddress: string (nullable = true)\n",
      " |-- SourceHandleId: string (nullable = true)\n",
      " |-- SourceHostname: string (nullable = true)\n",
      " |-- SourceImage: string (nullable = true)\n",
      " |-- SourceIp: string (nullable = true)\n",
      " |-- SourceIsIpv6: string (nullable = true)\n",
      " |-- SourceModuleName: string (nullable = true)\n",
      " |-- SourceModuleType: string (nullable = true)\n",
      " |-- SourceName: string (nullable = true)\n",
      " |-- SourcePort: string (nullable = true)\n",
      " |-- SourcePortName: string (nullable = true)\n",
      " |-- SourceProcessGUID: string (nullable = true)\n",
      " |-- SourceProcessId: string (nullable = true)\n",
      " |-- SourceThreadId: string (nullable = true)\n",
      " |-- Status: string (nullable = true)\n",
      " |-- SubjectDomainName: string (nullable = true)\n",
      " |-- SubjectLogonId: string (nullable = true)\n",
      " |-- SubjectUserName: string (nullable = true)\n",
      " |-- SubjectUserSid: string (nullable = true)\n",
      " |-- TargetDomainName: string (nullable = true)\n",
      " |-- TargetFilename: string (nullable = true)\n",
      " |-- TargetHandleId: string (nullable = true)\n",
      " |-- TargetImage: string (nullable = true)\n",
      " |-- TargetLinkedLogonId: string (nullable = true)\n",
      " |-- TargetLogonId: string (nullable = true)\n",
      " |-- TargetObject: string (nullable = true)\n",
      " |-- TargetOutboundDomainName: string (nullable = true)\n",
      " |-- TargetOutboundUserName: string (nullable = true)\n",
      " |-- TargetProcessGUID: string (nullable = true)\n",
      " |-- TargetProcessId: string (nullable = true)\n",
      " |-- TargetUserName: string (nullable = true)\n",
      " |-- TargetUserSid: string (nullable = true)\n",
      " |-- Task: long (nullable = true)\n",
      " |-- TerminalSessionId: string (nullable = true)\n",
      " |-- ThreadID: long (nullable = true)\n",
      " |-- TokenElevationType: string (nullable = true)\n",
      " |-- TransactionId: string (nullable = true)\n",
      " |-- TransmittedServices: string (nullable = true)\n",
      " |-- User: string (nullable = true)\n",
      " |-- UserID: string (nullable = true)\n",
      " |-- UtcTime: string (nullable = true)\n",
      " |-- Version: long (nullable = true)\n",
      " |-- VirtualAccount: string (nullable = true)\n",
      " |-- WorkstationName: string (nullable = true)\n",
      " |-- host: string (nullable = true)\n",
      " |-- port: long (nullable = true)\n",
      " |-- tags: array (nullable = true)\n",
      " |    |-- element: string (containsNull = true)\n",
      "\n"
     ]
    }
   ],
   "source": [
    "df.printSchema()"
   ]
  },
  {
   "cell_type": "markdown",
   "metadata": {},
   "source": [
    "## Query 1"
   ]
  },
  {
   "cell_type": "code",
   "execution_count": 5,
   "metadata": {
    "scrolled": true
   },
   "outputs": [
    {
     "name": "stdout",
     "output_type": "stream",
     "text": [
      "+------------------------+-------------------+---------------------------+---------------+---------------------------------------------------------+--------------------------------------------------+----------+-------+\n",
      "|@timestamp              |EventTime          |Hostname                   |SubjectUserName|ProcessName                                              |ObjectName                                        |AccessMask|EventID|\n",
      "+------------------------+-------------------+---------------------------+---------------+---------------------------------------------------------+--------------------------------------------------+----------+-------+\n",
      "|2020-08-07T14:32:57.592Z|2020-08-07 10:32:56|WORKSTATION5.theshire.local|pgustavo       |C:\\Windows\\System32\\WindowsPowerShell\\v1.0\\powershell.exe|\\Device\\HarddiskVolume2\\Windows\\System32\\lsass.exe|0x1010    |4656   |\n",
      "|2020-08-07T14:32:57.592Z|2020-08-07 10:32:56|WORKSTATION5.theshire.local|pgustavo       |C:\\Windows\\System32\\WindowsPowerShell\\v1.0\\powershell.exe|\\Device\\HarddiskVolume2\\Windows\\System32\\lsass.exe|0x10      |4663   |\n",
      "+------------------------+-------------------+---------------------------+---------------+---------------------------------------------------------+--------------------------------------------------+----------+-------+\n",
      "\n"
     ]
    }
   ],
   "source": [
    "df = spark.sql(\n",
    "'''\n",
    "SELECT `@timestamp`, EventTime, Hostname, SubjectUserName, ProcessName, ObjectName, AccessMask, EventID\n",
    "FROM data_table\n",
    "WHERE LOWER(Channel) = \"security\"\n",
    "    AND (EventID = 4663 OR EventID = 4656)\n",
    "    AND ObjectName LIKE \"%lsass.exe\"\n",
    "    AND NOT SubjectUserName LIKE \"%$\"\n",
    "'''\n",
    ")\n",
    "df.show(10,False)"
   ]
  },
  {
   "cell_type": "code",
   "execution_count": 6,
   "metadata": {},
   "outputs": [
    {
     "data": {
      "text/html": [
       "<div>\n",
       "<style scoped>\n",
       "    .dataframe tbody tr th:only-of-type {\n",
       "        vertical-align: middle;\n",
       "    }\n",
       "\n",
       "    .dataframe tbody tr th {\n",
       "        vertical-align: top;\n",
       "    }\n",
       "\n",
       "    .dataframe thead th {\n",
       "        text-align: right;\n",
       "    }\n",
       "</style>\n",
       "<table border=\"1\" class=\"dataframe\">\n",
       "  <thead>\n",
       "    <tr style=\"text-align: right;\">\n",
       "      <th></th>\n",
       "      <th>@timestamp</th>\n",
       "      <th>EventTime</th>\n",
       "      <th>Hostname</th>\n",
       "      <th>SubjectUserName</th>\n",
       "      <th>ProcessName</th>\n",
       "      <th>ObjectName</th>\n",
       "      <th>AccessMask</th>\n",
       "      <th>EventID</th>\n",
       "    </tr>\n",
       "  </thead>\n",
       "  <tbody>\n",
       "    <tr>\n",
       "      <th>0</th>\n",
       "      <td>2020-08-07T14:32:57.592Z</td>\n",
       "      <td>2020-08-07 10:32:56</td>\n",
       "      <td>WORKSTATION5.theshire.local</td>\n",
       "      <td>pgustavo</td>\n",
       "      <td>C:\\Windows\\System32\\WindowsPowerShell\\v1.0\\pow...</td>\n",
       "      <td>\\Device\\HarddiskVolume2\\Windows\\System32\\lsass...</td>\n",
       "      <td>0x1010</td>\n",
       "      <td>4656</td>\n",
       "    </tr>\n",
       "    <tr>\n",
       "      <th>1</th>\n",
       "      <td>2020-08-07T14:32:57.592Z</td>\n",
       "      <td>2020-08-07 10:32:56</td>\n",
       "      <td>WORKSTATION5.theshire.local</td>\n",
       "      <td>pgustavo</td>\n",
       "      <td>C:\\Windows\\System32\\WindowsPowerShell\\v1.0\\pow...</td>\n",
       "      <td>\\Device\\HarddiskVolume2\\Windows\\System32\\lsass...</td>\n",
       "      <td>0x10</td>\n",
       "      <td>4663</td>\n",
       "    </tr>\n",
       "  </tbody>\n",
       "</table>\n",
       "</div>"
      ],
      "text/plain": [
       "                 @timestamp            EventTime                     Hostname  \\\n",
       "0  2020-08-07T14:32:57.592Z  2020-08-07 10:32:56  WORKSTATION5.theshire.local   \n",
       "1  2020-08-07T14:32:57.592Z  2020-08-07 10:32:56  WORKSTATION5.theshire.local   \n",
       "\n",
       "  SubjectUserName                                        ProcessName  \\\n",
       "0        pgustavo  C:\\Windows\\System32\\WindowsPowerShell\\v1.0\\pow...   \n",
       "1        pgustavo  C:\\Windows\\System32\\WindowsPowerShell\\v1.0\\pow...   \n",
       "\n",
       "                                          ObjectName AccessMask  EventID  \n",
       "0  \\Device\\HarddiskVolume2\\Windows\\System32\\lsass...     0x1010     4656  \n",
       "1  \\Device\\HarddiskVolume2\\Windows\\System32\\lsass...       0x10     4663  "
      ]
     },
     "execution_count": 6,
     "metadata": {},
     "output_type": "execute_result"
    }
   ],
   "source": [
    "df.toPandas().head()"
   ]
  },
  {
   "cell_type": "markdown",
   "metadata": {},
   "source": [
    "## Query 2"
   ]
  },
  {
   "cell_type": "code",
   "execution_count": 3,
   "metadata": {},
   "outputs": [
    {
     "name": "stdout",
     "output_type": "stream",
     "text": [
      "+------------------------+---------------------------+---------------------------------------------------------+-----------------------------+-------------+--------------------------------------+\n",
      "|@timestamp              |Hostname                   |SourceImage                                              |TargetImage                  |GrantedAccess|SourceProcessGUID                     |\n",
      "+------------------------+---------------------------+---------------------------------------------------------+-----------------------------+-------------+--------------------------------------+\n",
      "|2020-08-07T14:32:57.589Z|WORKSTATION5.theshire.local|C:\\windows\\System32\\WindowsPowerShell\\v1.0\\powershell.exe|C:\\windows\\system32\\lsass.exe|0x1010       |{297bc33e-65d0-5f2d-8207-000000000400}|\n",
      "+------------------------+---------------------------+---------------------------------------------------------+-----------------------------+-------------+--------------------------------------+\n",
      "\n"
     ]
    }
   ],
   "source": [
    "df = spark.sql(\n",
    "'''\n",
    "SELECT `@timestamp`, Hostname, SourceImage, TargetImage, GrantedAccess, SourceProcessGUID\n",
    "FROM data_table\n",
    "WHERE Channel = \"Microsoft-Windows-Sysmon/Operational\"\n",
    "    AND EventID = 10\n",
    "    AND TargetImage LIKE \"%lsass.exe\"\n",
    "    AND CallTrace LIKE \"%UNKNOWN%\"\n",
    "'''\n",
    ")\n",
    "df.show(10,False)"
   ]
  },
  {
   "cell_type": "code",
   "execution_count": 4,
   "metadata": {},
   "outputs": [
    {
     "data": {
      "text/html": [
       "<div>\n",
       "<style scoped>\n",
       "    .dataframe tbody tr th:only-of-type {\n",
       "        vertical-align: middle;\n",
       "    }\n",
       "\n",
       "    .dataframe tbody tr th {\n",
       "        vertical-align: top;\n",
       "    }\n",
       "\n",
       "    .dataframe thead th {\n",
       "        text-align: right;\n",
       "    }\n",
       "</style>\n",
       "<table border=\"1\" class=\"dataframe\">\n",
       "  <thead>\n",
       "    <tr style=\"text-align: right;\">\n",
       "      <th></th>\n",
       "      <th>@timestamp</th>\n",
       "      <th>Hostname</th>\n",
       "      <th>SourceImage</th>\n",
       "      <th>TargetImage</th>\n",
       "      <th>GrantedAccess</th>\n",
       "      <th>SourceProcessGUID</th>\n",
       "    </tr>\n",
       "  </thead>\n",
       "  <tbody>\n",
       "    <tr>\n",
       "      <th>0</th>\n",
       "      <td>2020-08-07T14:32:57.589Z</td>\n",
       "      <td>WORKSTATION5.theshire.local</td>\n",
       "      <td>C:\\windows\\System32\\WindowsPowerShell\\v1.0\\pow...</td>\n",
       "      <td>C:\\windows\\system32\\lsass.exe</td>\n",
       "      <td>0x1010</td>\n",
       "      <td>{297bc33e-65d0-5f2d-8207-000000000400}</td>\n",
       "    </tr>\n",
       "  </tbody>\n",
       "</table>\n",
       "</div>"
      ],
      "text/plain": [
       "                 @timestamp                     Hostname  \\\n",
       "0  2020-08-07T14:32:57.589Z  WORKSTATION5.theshire.local   \n",
       "\n",
       "                                         SourceImage  \\\n",
       "0  C:\\windows\\System32\\WindowsPowerShell\\v1.0\\pow...   \n",
       "\n",
       "                     TargetImage GrantedAccess  \\\n",
       "0  C:\\windows\\system32\\lsass.exe        0x1010   \n",
       "\n",
       "                        SourceProcessGUID  \n",
       "0  {297bc33e-65d0-5f2d-8207-000000000400}  "
      ]
     },
     "execution_count": 4,
     "metadata": {},
     "output_type": "execute_result"
    }
   ],
   "source": [
    "df.toPandas().head()"
   ]
  },
  {
   "cell_type": "markdown",
   "metadata": {},
   "source": [
    "## Query 3"
   ]
  },
  {
   "cell_type": "code",
   "execution_count": 5,
   "metadata": {},
   "outputs": [
    {
     "name": "stdout",
     "output_type": "stream",
     "text": [
      "+--------------------------------------+---------------------------------------------------------+----+\n",
      "|ProcessGuid                           |Image                                                    |hits|\n",
      "+--------------------------------------+---------------------------------------------------------+----+\n",
      "|{297bc33e-65d0-5f2d-8207-000000000400}|C:\\Windows\\System32\\WindowsPowerShell\\v1.0\\powershell.exe|4   |\n",
      "+--------------------------------------+---------------------------------------------------------+----+\n",
      "\n"
     ]
    }
   ],
   "source": [
    "df = spark.sql(\n",
    "'''\n",
    "SELECT ProcessGuid,Image, COUNT(DISTINCT ImageLoaded) AS hits\n",
    "FROM data_table\n",
    "WHERE Channel = \"Microsoft-Windows-Sysmon/Operational\"\n",
    "    AND EventID = 7\n",
    "    AND ( \n",
    "        ImageLoaded LIKE \"%samlib.dll\"\n",
    "        OR ImageLoaded LIKE \"%vaultcli.dll\"\n",
    "        OR ImageLoaded LIKE \"%hid.dll\"\n",
    "        OR ImageLoaded LIKE \"%winscard.dll\"\n",
    "        OR ImageLoaded LIKE \"%cryptdll.dll\"\n",
    "    )\n",
    "    AND `@timestamp` BETWEEN \"2020-06-00 00:00:00.000\" AND \"2020-08-20 00:00:00.000\"\n",
    "    GROUP BY ProcessGuid,Image ORDER BY hits DESC LIMIT 10\n",
    "'''\n",
    ")\n",
    "df.show(10,False)"
   ]
  },
  {
   "cell_type": "code",
   "execution_count": 6,
   "metadata": {},
   "outputs": [
    {
     "data": {
      "text/html": [
       "<div>\n",
       "<style scoped>\n",
       "    .dataframe tbody tr th:only-of-type {\n",
       "        vertical-align: middle;\n",
       "    }\n",
       "\n",
       "    .dataframe tbody tr th {\n",
       "        vertical-align: top;\n",
       "    }\n",
       "\n",
       "    .dataframe thead th {\n",
       "        text-align: right;\n",
       "    }\n",
       "</style>\n",
       "<table border=\"1\" class=\"dataframe\">\n",
       "  <thead>\n",
       "    <tr style=\"text-align: right;\">\n",
       "      <th></th>\n",
       "      <th>ProcessGuid</th>\n",
       "      <th>Image</th>\n",
       "      <th>hits</th>\n",
       "    </tr>\n",
       "  </thead>\n",
       "  <tbody>\n",
       "    <tr>\n",
       "      <th>0</th>\n",
       "      <td>{297bc33e-65d0-5f2d-8207-000000000400}</td>\n",
       "      <td>C:\\Windows\\System32\\WindowsPowerShell\\v1.0\\pow...</td>\n",
       "      <td>4</td>\n",
       "    </tr>\n",
       "  </tbody>\n",
       "</table>\n",
       "</div>"
      ],
      "text/plain": [
       "                              ProcessGuid  \\\n",
       "0  {297bc33e-65d0-5f2d-8207-000000000400}   \n",
       "\n",
       "                                               Image  hits  \n",
       "0  C:\\Windows\\System32\\WindowsPowerShell\\v1.0\\pow...     4  "
      ]
     },
     "execution_count": 6,
     "metadata": {},
     "output_type": "execute_result"
    }
   ],
   "source": [
    "df.toPandas().head()"
   ]
  },
  {
   "cell_type": "markdown",
   "metadata": {},
   "source": [
    "## Query 4"
   ]
  },
  {
   "cell_type": "code",
   "execution_count": 7,
   "metadata": {},
   "outputs": [
    {
     "name": "stdout",
     "output_type": "stream",
     "text": [
      "+------------------------+---------------------------+---------------------------------------------------------+--------------------------------------+\n",
      "|@timestamp              |Hostname                   |Image                                                    |SourceProcessGUID                     |\n",
      "+------------------------+---------------------------+---------------------------------------------------------+--------------------------------------+\n",
      "|2020-08-07T14:32:57.589Z|WORKSTATION5.theshire.local|C:\\Windows\\System32\\WindowsPowerShell\\v1.0\\powershell.exe|{297bc33e-65d0-5f2d-8207-000000000400}|\n",
      "+------------------------+---------------------------+---------------------------------------------------------+--------------------------------------+\n",
      "\n"
     ]
    }
   ],
   "source": [
    "df = spark.sql(\n",
    "'''\n",
    "SELECT a.`@timestamp`, a.Hostname, m.Image, a.SourceProcessGUID\n",
    "FROM data_table a\n",
    "INNER JOIN (\n",
    "    SELECT ProcessGuid,Image, COUNT(DISTINCT ImageLoaded) AS hits\n",
    "    FROM data_table\n",
    "    WHERE Channel = \"Microsoft-Windows-Sysmon/Operational\"\n",
    "        AND EventID = 7\n",
    "        AND ( \n",
    "            ImageLoaded LIKE \"%samlib.dll\"\n",
    "            OR ImageLoaded LIKE \"%vaultcli.dll\"\n",
    "            OR ImageLoaded LIKE \"%hid.dll\"\n",
    "            OR ImageLoaded LIKE \"%winscard.dll\"\n",
    "            OR ImageLoaded LIKE \"%cryptdll.dll\"\n",
    "        )\n",
    "        AND `@timestamp` BETWEEN \"2020-06 00:00:00.000\" AND \"2020-10-20 00:00:00.000\"\n",
    "        GROUP BY ProcessGuid,Image ORDER BY hits DESC LIMIT 10\n",
    "    ) m\n",
    "ON a.SourceProcessGUID = m.ProcessGuid\n",
    "WHERE a.Channel = \"Microsoft-Windows-Sysmon/Operational\"\n",
    "    AND a.EventID = 10\n",
    "    AND a.TargetImage LIKE \"%lsass.exe\"\n",
    "    AND a.CallTrace LIKE \"%UNKNOWN%\"\n",
    "    AND m.hits >= 3\n",
    "'''\n",
    ")\n",
    "df.show(10,False)"
   ]
  },
  {
   "cell_type": "code",
   "execution_count": 8,
   "metadata": {},
   "outputs": [
    {
     "data": {
      "text/html": [
       "<div>\n",
       "<style scoped>\n",
       "    .dataframe tbody tr th:only-of-type {\n",
       "        vertical-align: middle;\n",
       "    }\n",
       "\n",
       "    .dataframe tbody tr th {\n",
       "        vertical-align: top;\n",
       "    }\n",
       "\n",
       "    .dataframe thead th {\n",
       "        text-align: right;\n",
       "    }\n",
       "</style>\n",
       "<table border=\"1\" class=\"dataframe\">\n",
       "  <thead>\n",
       "    <tr style=\"text-align: right;\">\n",
       "      <th></th>\n",
       "      <th>@timestamp</th>\n",
       "      <th>Hostname</th>\n",
       "      <th>Image</th>\n",
       "      <th>SourceProcessGUID</th>\n",
       "    </tr>\n",
       "  </thead>\n",
       "  <tbody>\n",
       "    <tr>\n",
       "      <th>0</th>\n",
       "      <td>2020-08-07T14:32:57.589Z</td>\n",
       "      <td>WORKSTATION5.theshire.local</td>\n",
       "      <td>C:\\Windows\\System32\\WindowsPowerShell\\v1.0\\pow...</td>\n",
       "      <td>{297bc33e-65d0-5f2d-8207-000000000400}</td>\n",
       "    </tr>\n",
       "  </tbody>\n",
       "</table>\n",
       "</div>"
      ],
      "text/plain": [
       "                 @timestamp                     Hostname  \\\n",
       "0  2020-08-07T14:32:57.589Z  WORKSTATION5.theshire.local   \n",
       "\n",
       "                                               Image  \\\n",
       "0  C:\\Windows\\System32\\WindowsPowerShell\\v1.0\\pow...   \n",
       "\n",
       "                        SourceProcessGUID  \n",
       "0  {297bc33e-65d0-5f2d-8207-000000000400}  "
      ]
     },
     "execution_count": 8,
     "metadata": {},
     "output_type": "execute_result"
    }
   ],
   "source": [
    "df.toPandas().head()"
   ]
  },
  {
   "cell_type": "code",
   "execution_count": null,
   "metadata": {},
   "outputs": [],
   "source": []
  }
 ],
 "metadata": {
  "kernelspec": {
   "display_name": "PySpark_Python3",
   "language": "python",
   "name": "pyspark3"
  },
  "language_info": {
   "codemirror_mode": {
    "name": "ipython",
    "version": 3
   },
   "file_extension": ".py",
   "mimetype": "text/x-python",
   "name": "python",
   "nbconvert_exporter": "python",
   "pygments_lexer": "ipython3",
   "version": "3.7.6"
  }
 },
 "nbformat": 4,
 "nbformat_minor": 4
}
